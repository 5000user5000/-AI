{
  "nbformat": 4,
  "nbformat_minor": 0,
  "metadata": {
    "colab": {
      "name": "Lesson1_StartSimple.ipynb",
      "provenance": []
    },
    "kernelspec": {
      "name": "python3",
      "display_name": "Python 3"
    },
    "language_info": {
      "name": "python"
    }
  },
  "cells": [
    {
      "cell_type": "markdown",
      "source": [
        "此為MIT深度學習(2019)第一個程式,約出現在開頭10分鐘處,六行代碼的code,\n",
        "功能是訓練辨識圖片"
      ],
      "metadata": {
        "id": "9Yw-qmxkoqz0"
      }
    },
    {
      "cell_type": "markdown",
      "source": [
        "先引入要使用的套件,如沒法引入就用pip install 指令安裝"
      ],
      "metadata": {
        "id": "a0PHULhFo3Mh"
      }
    },
    {
      "cell_type": "code",
      "execution_count": 1,
      "metadata": {
        "id": "oDwLAY8toYAm"
      },
      "outputs": [],
      "source": [
        "import tensorflow as tf  #常用的ai套件之一,另外還有pytorch,theano...\n",
        "from tensorflow import keras"
      ]
    },
    {
      "cell_type": "markdown",
      "source": [
        "下載keras內建的圖片資料,並依序放置訓練和測試用的圖片及標籤"
      ],
      "metadata": {
        "id": "va4QDBBApXbG"
      }
    },
    {
      "cell_type": "code",
      "source": [
        "(train_images, train_labels), (test_images, test_labels) = keras.datasets.mnist.load_data() #好奇的話,可以試著print(train_images),print(train_labels)看看裡面內容"
      ],
      "metadata": {
        "id": "7TDcjvSTo05y"
      },
      "execution_count": 2,
      "outputs": []
    },
    {
      "cell_type": "markdown",
      "source": [
        "建立模型"
      ],
      "metadata": {
        "id": "QL2Vz3bzqnbl"
      }
    },
    {
      "cell_type": "code",
      "source": [
        "model = keras.Sequential([\n",
        "   keras.layers.Flatten(input_shape=(28,28)),         # 先把2維的28*28的圖片資料(像素)壓平成1維的784數列                \n",
        "   keras.layers.Dense(128, activation= tf.nn.relu),   # 全連接層,使用的激勵函數為relu\n",
        "   keras.layers.Dense(10, activation= tf.nn.softmax)  # 輸出層,輸出10表示一共有10個(標籤)種類,softmax把數值轉成[0,1],也就是機率分布, 每一個種類的機率多少.\n",
        "                                                      # 舉例:此圖是1的機率是0.3,是2的機率是0.4... \n",                                                       
        "])\n",
        "\n",
        "model.compile(optimizer= tf.optimizers.Adam(),    #tf.train.AdamOptimizer()這是影片中的代碼,但現在已經過時,應使用tf.optimizers.Adam() #優化器->進步方式\n",
        "       loss='sparse_categorical_crossentropy',    #選擇如何計算誤差,也就是和目標100分差多少     \n",
        "       metrics=['accuracy'])             #紀錄每次的正確率"
      ],
      "metadata": {
        "id": "mUTdQ0eGp7QK"
      },
      "execution_count": 3,
      "outputs": []
    },
    {
      "cell_type": "markdown",
      "source": [
        "訓練模型"
      ],
      "metadata": {
        "id": "GbU8ZdZhvhfY"
      }
    },
    {
      "cell_type": "code",
      "source": [
        "model.fit(train_images, train_labels, epochs=5) #輸入訓練用的圖片和標籤,共跑五次(把資料重複讀5次訓練),每次epoch都能看到那次的誤差和正確率"
      ],
      "metadata": {
        "colab": {
          "base_uri": "https://localhost:8080/"
        },
        "id": "PghXpHEls67f",
        "outputId": "a3111ea1-a018-4a64-b9fd-eb6d4451b8d1"
      },
      "execution_count": 4,
      "outputs": [
        {
          "output_type": "stream",
          "name": "stdout",
          "text": [
            "Epoch 1/5\n",
            "1875/1875 [==============================] - 7s 3ms/step - loss: 2.6055 - accuracy: 0.8686\n",
            "Epoch 2/5\n",
            "1875/1875 [==============================] - 6s 3ms/step - loss: 0.4134 - accuracy: 0.9077\n",
            "Epoch 3/5\n",
            "1875/1875 [==============================] - 4s 2ms/step - loss: 0.3034 - accuracy: 0.9288\n",
            "Epoch 4/5\n",
            "1875/1875 [==============================] - 4s 2ms/step - loss: 0.2479 - accuracy: 0.9383\n",
            "Epoch 5/5\n",
            "1875/1875 [==============================] - 4s 2ms/step - loss: 0.2373 - accuracy: 0.9433\n"
          ]
        },
        {
          "output_type": "execute_result",
          "data": {
            "text/plain": [
              "<keras.callbacks.History at 0x7f6d71c81190>"
            ]
          },
          "metadata": {},
          "execution_count": 4
        }
      ]
    },
    {
      "cell_type": "markdown",
      "source": [
        "評估此模型好壞"
      ],
      "metadata": {
        "id": "whyQ79livlNM"
      }
    },
    {
      "cell_type": "code",
      "source": [
        "test_loss , test_acc = model.evaluate(test_images, test_labels) #再放入測試用的資料,測驗準度,比喻來說train就像是寫考古題,而test是考真的大考,去考才知道真實力\n",
        
        "print('test accuracy:', test_acc)                  #輸出測驗的正確性"
      ],
      "metadata": {
        "colab": {
          "base_uri": "https://localhost:8080/"
        },
        "id": "Fi0pra1DtiCd",
        "outputId": "6b20c950-9ba3-4a75-b792-7694fab040ff"
      },
      "execution_count": 5,
      "outputs": [
        {
          "output_type": "stream",
          "name": "stdout",
          "text": [
            "313/313 [==============================] - 1s 2ms/step - loss: 0.2645 - accuracy: 0.9383\n",
            "test accuracy: 0.9383000135421753\n"
          ]
        }
      ]
    },
    {
      "cell_type": "markdown",
      "source": [
        "預測,輸入圖片,去預測標籤(但這不會有任何輸出)"
      ],
      "metadata": {
        "id": "QOyoetmRvsFW"
      }
    },
    {
      "cell_type": "code",
      "source": [
        "prediction = model.predict(test_images)"
      ],
      "metadata": {
        "id": "4MHiR4l2t2rr"
      },
      "execution_count": 6,
      "outputs": []
    },
    {
      "cell_type": "markdown",
      "source": [
        "以下是額外補充"
      ],
      "metadata": {
        "id": "EnxbCuh5yxZL"
      }
    },
    {
      "cell_type": "code",
      "source": [
        "print(prediction[0]) #輸出上一行預測第一張圖的機率分布(0~9的機率),從左上開始,往右往下依序.可以看到7的位置機率最高(1.0 = 100%確認是7)"
      ],
      "metadata": {
        "colab": {
          "base_uri": "https://localhost:8080/"
        },
        "id": "eoPHxx3xygRs",
        "outputId": "d4beae18-c1c7-4ef4-aeab-bad7283c9fc4"
      },
      "execution_count": 7,
      "outputs": [
        {
          "output_type": "stream",
          "name": "stdout",
          "text": [
            "[1.3042818e-13 6.5513779e-25 1.6647032e-12 1.4028835e-07 6.6385328e-11\n",
            " 2.0388220e-14 1.7349308e-31 9.9999988e-01 1.1806235e-14 1.8505224e-13]\n"
          ]
        }
      ]
    },
    {
      "cell_type": "code",
      "source": [
        "print(test_labels[0]) #輸出第一筆測驗資料的標籤,的確是7"
      ],
      "metadata": {
        "colab": {
          "base_uri": "https://localhost:8080/"
        },
        "id": "xFlfzgmlymDr",
        "outputId": "c18101bc-14f3-46a2-ec64-647926c0c0ef"
      },
      "execution_count": 8,
      "outputs": [
        {
          "output_type": "stream",
          "name": "stdout",
          "text": [
            "7\n"
          ]
        }
      ]
    }
  ]
}
