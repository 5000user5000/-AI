{
  "nbformat": 4,
  "nbformat_minor": 0,
  "metadata": {
    "colab": {
      "name": "正則化.ipynb",
      "provenance": []
    },
    "kernelspec": {
      "name": "python3",
      "display_name": "Python 3"
    },
    "language_info": {
      "name": "python"
    }
  },
  "cells": [
    {
      "cell_type": "code",
      "metadata": {
        "id": "dss_lVp1lyCm"
      },
      "source": [
        "from sklearn.datasets import load_boston\n",
        "from sklearn.linear_model import LinearRegression,Ridge,Lasso"
      ],
      "execution_count": null,
      "outputs": []
    },
    {
      "cell_type": "code",
      "metadata": {
        "id": "EP9uRAg_mQm5"
      },
      "source": [
        "boston = load_boston()\n",
        "x = boston.data\n",
        "y = boston.target"
      ],
      "execution_count": null,
      "outputs": []
    },
    {
      "cell_type": "code",
      "metadata": {
        "colab": {
          "base_uri": "https://localhost:8080/"
        },
        "id": "mr0-3gsXmmbl",
        "outputId": "87d24335-e78d-4553-b7a6-460566dc18b0"
      },
      "source": [
        "lr1 = LinearRegression()\n",
        "lr1.fit(x,y)"
      ],
      "execution_count": null,
      "outputs": [
        {
          "output_type": "execute_result",
          "data": {
            "text/plain": [
              "LinearRegression(copy_X=True, fit_intercept=True, n_jobs=None, normalize=False)"
            ]
          },
          "metadata": {},
          "execution_count": 3
        }
      ]
    },
    {
      "cell_type": "code",
      "metadata": {
        "colab": {
          "base_uri": "https://localhost:8080/"
        },
        "id": "FaPXI_E-mvMF",
        "outputId": "4d617760-f283-46f3-a2b5-253099eb829c"
      },
      "source": [
        "print(\"LinearRegression\")\n",
        "for f , w in zip(boston.feature_names, lr1.coef_):\n",
        "  print(\"{0:7s}:{1:6.2f}\".format(f,w))\n",
        "print(\"coef = {0:4.2f}\".format(sum(lr1.coef_**2)))"
      ],
      "execution_count": null,
      "outputs": [
        {
          "output_type": "stream",
          "name": "stdout",
          "text": [
            "LinearRegression\n",
            "CRIM   : -0.11\n",
            "ZN     :  0.05\n",
            "INDUS  :  0.02\n",
            "CHAS   :  2.69\n",
            "NOX    :-17.77\n",
            "RM     :  3.81\n",
            "AGE    :  0.00\n",
            "DIS    : -1.48\n",
            "RAD    :  0.31\n",
            "TAX    : -0.01\n",
            "PTRATIO: -0.95\n",
            "B      :  0.01\n",
            "LSTAT  : -0.52\n",
            "coef = 340.85\n"
          ]
        }
      ]
    },
    {
      "cell_type": "code",
      "metadata": {
        "colab": {
          "base_uri": "https://localhost:8080/"
        },
        "id": "wjK50EjqnQSI",
        "outputId": "4f754d18-76d8-488d-d5f5-689bf1815a9a"
      },
      "source": [
        "lr2 = Ridge(alpha = 10.0)\n",
        "lr2.fit(x,y)\n",
        "print(\"Ridge\")\n",
        "for f , w in zip(boston.feature_names, lr2.coef_):\n",
        "  print(\"{0:7s}:{1:6.2f}\".format(f,w))\n",
        "print(\"coef = {0:4.2f}\".format(sum(lr2.coef_**2)))"
      ],
      "execution_count": null,
      "outputs": [
        {
          "output_type": "stream",
          "name": "stdout",
          "text": [
            "Ridge\n",
            "CRIM   : -0.10\n",
            "ZN     :  0.05\n",
            "INDUS  : -0.04\n",
            "CHAS   :  1.95\n",
            "NOX    : -2.37\n",
            "RM     :  3.70\n",
            "AGE    : -0.01\n",
            "DIS    : -1.25\n",
            "RAD    :  0.28\n",
            "TAX    : -0.01\n",
            "PTRATIO: -0.80\n",
            "B      :  0.01\n",
            "LSTAT  : -0.56\n",
            "coef = 25.74\n"
          ]
        }
      ]
    },
    {
      "cell_type": "code",
      "metadata": {
        "colab": {
          "base_uri": "https://localhost:8080/"
        },
        "id": "ANDwD1nEnpbP",
        "outputId": "01b472c0-a925-4d27-8a45-ea209b3a7793"
      },
      "source": [
        "lr3 = Lasso(alpha = 2.0)\n",
        "lr3.fit(x,y)\n",
        "print(\"Ridge\")\n",
        "for f , w in zip(boston.feature_names, lr3.coef_):\n",
        "  print(\"{0:7s}:{1:6.2f}\".format(f,w))\n",
        "print(\"coef = {0:4.2f}\".format(sum(lr3.coef_**2)))"
      ],
      "execution_count": null,
      "outputs": [
        {
          "output_type": "stream",
          "name": "stdout",
          "text": [
            "Ridge\n",
            "CRIM   : -0.02\n",
            "ZN     :  0.04\n",
            "INDUS  : -0.00\n",
            "CHAS   :  0.00\n",
            "NOX    : -0.00\n",
            "RM     :  0.00\n",
            "AGE    :  0.04\n",
            "DIS    : -0.07\n",
            "RAD    :  0.17\n",
            "TAX    : -0.01\n",
            "PTRATIO: -0.56\n",
            "B      :  0.01\n",
            "LSTAT  : -0.82\n",
            "coef = 1.02\n"
          ]
        }
      ]
    }
  ]
}