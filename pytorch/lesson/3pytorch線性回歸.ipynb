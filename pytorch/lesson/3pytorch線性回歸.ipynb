{
  "cells": [
    {
      "cell_type": "code",
      "execution_count": null,
      "metadata": {
        "id": "7bSe9gZQE66z"
      },
      "outputs": [],
      "source": [
        "import torch\n",
        "import torch.nn as nn"
      ]
    },
    {
      "cell_type": "code",
      "execution_count": null,
      "metadata": {
        "id": "Cfd7Z7RFKCcD"
      },
      "outputs": [],
      "source": [
        "x_data = torch.Tensor([[1.0],[2.0],[3.0]]) #2個括號\n",
        "y_data = torch.Tensor([[2.0],[4.0],[6.0]])"
      ]
    },
    {
      "cell_type": "code",
      "execution_count": null,
      "metadata": {
        "id": "P1pHmSlTFDT1"
      },
      "outputs": [],
      "source": [
        "class LinearModel(nn.Module): #這裡用class (模板),工具箱,很多def; nn=neural network\n",
        "  def _init_(self):\n",
        "    super(LinearModel,self)._init_() # just do it  #self就像c#的this.f~\n",
        "      \n",
        "  def forward(self,x):  # 這裡沒有backward 是因為已經有內建的\n",
        "    self.linear = torch.nn.Linear(1,1) # w ,b = 1, 1 ##這行原本在_init_那行,可是系統不知為何無法辨識,我就try to 移到這,還有x必須要是tensor\n",
        "    y_pred = self.linear(x) \n",
        "    return y_pred\n",
        "\n",
        "model = LinearModel() #類別 賦予的方法,方便調用 model(x)"
      ]
    },
    {
      "cell_type": "code",
      "execution_count": null,
      "metadata": {
        "colab": {
          "base_uri": "https://localhost:8080/"
        },
        "id": "KeauLJ2SMGFy",
        "outputId": "f15242b5-45c8-4159-8001-49a5d8d26c00"
      },
      "outputs": [
        {
          "data": {
            "text/plain": [
              "tensor([[ 0.5163],\n",
              "        [ 0.1043],\n",
              "        [-0.3078]], grad_fn=<AddmmBackward0>)"
            ]
          },
          "execution_count": 5,
          "metadata": {},
          "output_type": "execute_result"
        }
      ],
      "source": [
        "model(x_data) #這本來是測試用的,但當我先跑了這個後,下一行的model.parameters()就能使用了,可能要先給一個跑跑才行,才會有參數出現"
      ]
    },
    {
      "cell_type": "code",
      "execution_count": null,
      "metadata": {
        "id": "oIgTbei3FlmB"
      },
      "outputs": [],
      "source": [
        "\n",
        "criterion = torch.nn.MSELoss(reduction='sum') #不給他平均\n",
        "optimizer = torch.optim.SGD(model.parameters(),lr=0.0001) #隨機梯度下降,model.parameters->權重"
      ]
    },
    {
      "cell_type": "code",
      "execution_count": null,
      "metadata": {
        "id": "D9xyeUsgI_Vi"
      },
      "outputs": [],
      "source": [
        "for epoch in range(1000):\n",
        "  y_pred = model(x_data)\n",
        "  loss = criterion(y_pred,y_data)\n",
        "  print(epoch,loss)\n",
        "\n",
        "  optimizer.zero_grad()\n",
        "  loss.backward() \n",
        "  optimizer.step() #update"
      ]
    },
    {
      "cell_type": "code",
      "execution_count": null,
      "metadata": {
        "colab": {
          "background_save": true
        },
        "id": "o5EMBqeoJhQp",
        "outputId": "86be2c84-1bbf-44e3-ccc7-ffc9b796dfd4"
      },
      "outputs": [
        {
          "name": "stdout",
          "output_type": "stream",
          "text": [
            "w= -0.9252893924713135\n",
            "b= 0.8218388557434082\n",
            "y_pred =  tensor([[2.9319]])\n"
          ]
        }
      ],
      "source": [
        "print('w=',model.linear.weight.item())\n",
        "print('b=',model.linear.bias.item())\n",
        "\n",
        "x_test = torch.Tensor([[4.0]])\n",
        "y_test = model(x_test)\n",
        "print('y_pred = ' , y_test.data)#誤差還挺大的"
      ]
    }
  ],
  "metadata": {
    "colab": {
      "name": "3pytorch線性回歸.ipynb",
      "provenance": []
    },
    "kernelspec": {
      "display_name": "Python 3",
      "name": "python3"
    },
    "language_info": {
      "name": "python"
    }
  },
  "nbformat": 4,
  "nbformat_minor": 0
}
