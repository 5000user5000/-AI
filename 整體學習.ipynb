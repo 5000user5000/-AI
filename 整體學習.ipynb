{
  "nbformat": 4,
  "nbformat_minor": 0,
  "metadata": {
    "colab": {
      "name": "整體學習.ipynb",
      "provenance": []
    },
    "kernelspec": {
      "name": "python3",
      "display_name": "Python 3"
    },
    "language_info": {
      "name": "python"
    }
  },
  "cells": [
    {
      "cell_type": "code",
      "metadata": {
        "id": "RRdfa_D6OjBZ"
      },
      "source": [
        "import numpy as np\n",
        "from scipy.io import arff\n",
        "from sklearn.ensemble import BaggingClassifier , RandomForestClassifier, AdaBoostClassifier, GradientBoostingClassifier\n",
        "from sklearn.model_selection import cross_val_score\n"
      ],
      "execution_count": null,
      "outputs": []
    },
    {
      "cell_type": "code",
      "metadata": {
        "id": "B_lovu9aPOKz"
      },
      "source": [
        "data , meta = arff.loadarff('diabetes.arff') #我是直接網路上查,在GD的檔案(左邊工作列中)新增,並複製貼上,特徵向量&正解標籤,arff要用scipy讀取\n",
        "X = np.empty((0,8),np.float)\n",
        "y = np.empty((0,1),np.str) \n",
        "for e in data:\n",
        "  e2 = list(e)\n",
        "  X = np.append(X,[e2[0:8]],axis=0)\n",
        "  y = np.append(y,e2[8:9])"
      ],
      "execution_count": null,
      "outputs": []
    },
    {
      "cell_type": "code",
      "metadata": {
        "colab": {
          "base_uri": "https://localhost:8080/"
        },
        "id": "0fFMxq2gP8V6",
        "outputId": "5c38d0be-c965-468d-a81e-ffbe1006992a"
      },
      "source": [
        "clf1 = BaggingClassifier()\n",
        "scores = cross_val_score(clf1,X,y,cv=10)\n",
        "print(\"{0:4.2f} +/- {1:4.2f}%\".format(scores.mean()*100,scores.std()*100))"
      ],
      "execution_count": null,
      "outputs": [
        {
          "output_type": "stream",
          "name": "stdout",
          "text": [
            "73.57 +/- 4.22%\n"
          ]
        }
      ]
    },
    {
      "cell_type": "code",
      "metadata": {
        "colab": {
          "base_uri": "https://localhost:8080/"
        },
        "id": "TzOu5GhrRiFC",
        "outputId": "811486d8-6948-4abf-b3af-6fb4d79dc55a"
      },
      "source": [
        "clf2 = RandomForestClassifier()\n",
        "scores = cross_val_score(clf2,X,y,cv=10)\n",
        "print(\"{0:4.2f} +/- {1:4.2f}%\".format(scores.mean()*100,scores.std()*100))"
      ],
      "execution_count": null,
      "outputs": [
        {
          "output_type": "stream",
          "name": "stdout",
          "text": [
            "76.70 +/- 5.26%\n"
          ]
        }
      ]
    },
    {
      "cell_type": "code",
      "metadata": {
        "colab": {
          "base_uri": "https://localhost:8080/"
        },
        "id": "Kx7_RlcBRvqp",
        "outputId": "7fe20756-cf40-42af-c006-1e4b439040a8"
      },
      "source": [
        "clf3 = AdaBoostClassifier()\n",
        "scores = cross_val_score(clf3,X,y,cv=10)\n",
        "print(\"{0:4.2f} +/- {1:4.2f}%\".format(scores.mean()*100,scores.std()*100))"
      ],
      "execution_count": null,
      "outputs": [
        {
          "output_type": "stream",
          "name": "stdout",
          "text": [
            "75.52 +/- 5.71%\n"
          ]
        }
      ]
    },
    {
      "cell_type": "code",
      "metadata": {
        "colab": {
          "base_uri": "https://localhost:8080/"
        },
        "id": "hglmLUNrR1ko",
        "outputId": "fc33a5f4-0c0f-4a86-dd36-83c3f3360ac5"
      },
      "source": [
        "clf4 = GradientBoostingClassifier()\n",
        "scores = cross_val_score(clf4,X,y,cv=10)\n",
        "print(\"{0:4.2f} +/- {1:4.2f}%\".format(scores.mean()*100,scores.std()*100))"
      ],
      "execution_count": null,
      "outputs": [
        {
          "output_type": "stream",
          "name": "stdout",
          "text": [
            "76.17 +/- 5.05%\n"
          ]
        }
      ]
    },
    {
      "cell_type": "code",
      "metadata": {
        "colab": {
          "base_uri": "https://localhost:8080/"
        },
        "id": "SAryvZBrSmST",
        "outputId": "976f2632-6931-4e6d-c7d6-3176e02ee752"
      },
      "source": [
        "print(e2)\n",
        "print(X)\n",
        "print(y)"
      ],
      "execution_count": null,
      "outputs": [
        {
          "output_type": "stream",
          "name": "stdout",
          "text": [
            "[1.0, 93.0, 70.0, 31.0, 0.0, 30.4, 0.315, 23.0, b'tested_negative']\n",
            "[[  6.    148.     72.    ...  33.6     0.627  50.   ]\n",
            " [  1.     85.     66.    ...  26.6     0.351  31.   ]\n",
            " [  8.    183.     64.    ...  23.3     0.672  32.   ]\n",
            " ...\n",
            " [  5.    121.     72.    ...  26.2     0.245  30.   ]\n",
            " [  1.    126.     60.    ...  30.1     0.349  47.   ]\n",
            " [  1.     93.     70.    ...  30.4     0.315  23.   ]]\n",
            "['tested_positive' 'tested_negative' 'tested_positive' 'tested_negative'\n",
            " 'tested_positive' 'tested_negative' 'tested_positive' 'tested_negative'\n",
            " 'tested_positive' 'tested_positive' 'tested_negative' 'tested_positive'\n",
            " 'tested_negative' 'tested_positive' 'tested_positive' 'tested_positive'\n",
            " 'tested_positive' 'tested_positive' 'tested_negative' 'tested_positive'\n",
            " 'tested_negative' 'tested_negative' 'tested_positive' 'tested_positive'\n",
            " 'tested_positive' 'tested_positive' 'tested_positive' 'tested_negative'\n",
            " 'tested_negative' 'tested_negative' 'tested_negative' 'tested_positive'\n",
            " 'tested_negative' 'tested_negative' 'tested_negative' 'tested_negative'\n",
            " 'tested_negative' 'tested_positive' 'tested_positive' 'tested_positive'\n",
            " 'tested_negative' 'tested_negative' 'tested_negative' 'tested_positive'\n",
            " 'tested_negative' 'tested_positive' 'tested_negative' 'tested_negative'\n",
            " 'tested_positive' 'tested_negative' 'tested_negative' 'tested_negative'\n",
            " 'tested_negative' 'tested_positive' 'tested_negative' 'tested_negative'\n",
            " 'tested_positive' 'tested_negative' 'tested_negative' 'tested_negative'\n",
            " 'tested_negative' 'tested_positive' 'tested_negative' 'tested_negative'\n",
            " 'tested_positive' 'tested_negative' 'tested_positive' 'tested_negative'\n",
            " 'tested_negative' 'tested_negative' 'tested_positive' 'tested_negative'\n",
            " 'tested_positive' 'tested_negative' 'tested_negative' 'tested_negative'\n",
            " 'tested_negative' 'tested_negative' 'tested_positive' 'tested_negative'\n",
            " 'tested_negative' 'tested_negative' 'tested_negative' 'tested_negative'\n",
            " 'tested_positive' 'tested_negative' 'tested_negative' 'tested_negative'\n",
            " 'tested_positive' 'tested_negative' 'tested_negative' 'tested_negative'\n",
            " 'tested_negative' 'tested_positive' 'tested_negative' 'tested_negative'\n",
            " 'tested_negative' 'tested_negative' 'tested_negative' 'tested_positive'\n",
            " 'tested_positive' 'tested_negative' 'tested_negative' 'tested_negative'\n",
            " 'tested_negative' 'tested_negative' 'tested_negative' 'tested_negative'\n",
            " 'tested_negative' 'tested_positive' 'tested_positive' 'tested_positive'\n",
            " 'tested_negative' 'tested_negative' 'tested_positive' 'tested_positive'\n",
            " 'tested_positive' 'tested_negative' 'tested_negative' 'tested_negative'\n",
            " 'tested_positive' 'tested_negative' 'tested_negative' 'tested_negative'\n",
            " 'tested_positive' 'tested_positive' 'tested_negative' 'tested_negative'\n",
            " 'tested_positive' 'tested_positive' 'tested_positive' 'tested_positive'\n",
            " 'tested_positive' 'tested_negative' 'tested_negative' 'tested_negative'\n",
            " 'tested_negative' 'tested_negative' 'tested_negative' 'tested_negative'\n",
            " 'tested_negative' 'tested_negative' 'tested_negative' 'tested_positive'\n",
            " 'tested_negative' 'tested_negative' 'tested_negative' 'tested_negative'\n",
            " 'tested_negative' 'tested_negative' 'tested_negative' 'tested_negative'\n",
            " 'tested_positive' 'tested_negative' 'tested_positive' 'tested_positive'\n",
            " 'tested_negative' 'tested_negative' 'tested_negative' 'tested_positive'\n",
            " 'tested_negative' 'tested_negative' 'tested_negative' 'tested_negative'\n",
            " 'tested_positive' 'tested_positive' 'tested_negative' 'tested_negative'\n",
            " 'tested_negative' 'tested_negative' 'tested_positive' 'tested_positive'\n",
            " 'tested_negative' 'tested_negative' 'tested_negative' 'tested_positive'\n",
            " 'tested_negative' 'tested_positive' 'tested_negative' 'tested_positive'\n",
            " 'tested_negative' 'tested_negative' 'tested_negative' 'tested_negative'\n",
            " 'tested_negative' 'tested_positive' 'tested_positive' 'tested_positive'\n",
            " 'tested_positive' 'tested_positive' 'tested_negative' 'tested_negative'\n",
            " 'tested_positive' 'tested_positive' 'tested_negative' 'tested_positive'\n",
            " 'tested_negative' 'tested_positive' 'tested_positive' 'tested_positive'\n",
            " 'tested_negative' 'tested_negative' 'tested_negative' 'tested_negative'\n",
            " 'tested_negative' 'tested_negative' 'tested_positive' 'tested_positive'\n",
            " 'tested_negative' 'tested_positive' 'tested_negative' 'tested_negative'\n",
            " 'tested_negative' 'tested_positive' 'tested_positive' 'tested_positive'\n",
            " 'tested_positive' 'tested_negative' 'tested_positive' 'tested_positive'\n",
            " 'tested_positive' 'tested_positive' 'tested_negative' 'tested_negative'\n",
            " 'tested_negative' 'tested_negative' 'tested_negative' 'tested_positive'\n",
            " 'tested_negative' 'tested_negative' 'tested_positive' 'tested_positive'\n",
            " 'tested_negative' 'tested_negative' 'tested_negative' 'tested_positive'\n",
            " 'tested_positive' 'tested_positive' 'tested_positive' 'tested_negative'\n",
            " 'tested_negative' 'tested_negative' 'tested_positive' 'tested_positive'\n",
            " 'tested_negative' 'tested_positive' 'tested_negative' 'tested_negative'\n",
            " 'tested_negative' 'tested_negative' 'tested_negative' 'tested_negative'\n",
            " 'tested_negative' 'tested_negative' 'tested_positive' 'tested_positive'\n",
            " 'tested_negative' 'tested_negative' 'tested_negative' 'tested_positive'\n",
            " 'tested_negative' 'tested_positive' 'tested_negative' 'tested_negative'\n",
            " 'tested_positive' 'tested_negative' 'tested_positive' 'tested_negative'\n",
            " 'tested_negative' 'tested_positive' 'tested_positive' 'tested_negative'\n",
            " 'tested_negative' 'tested_negative' 'tested_negative' 'tested_negative'\n",
            " 'tested_positive' 'tested_negative' 'tested_negative' 'tested_negative'\n",
            " 'tested_positive' 'tested_negative' 'tested_negative' 'tested_positive'\n",
            " 'tested_positive' 'tested_negative' 'tested_negative' 'tested_positive'\n",
            " 'tested_negative' 'tested_negative' 'tested_negative' 'tested_positive'\n",
            " 'tested_positive' 'tested_positive' 'tested_negative' 'tested_negative'\n",
            " 'tested_positive' 'tested_negative' 'tested_positive' 'tested_negative'\n",
            " 'tested_positive' 'tested_positive' 'tested_negative' 'tested_positive'\n",
            " 'tested_negative' 'tested_negative' 'tested_positive' 'tested_negative'\n",
            " 'tested_positive' 'tested_positive' 'tested_negative' 'tested_negative'\n",
            " 'tested_positive' 'tested_negative' 'tested_positive' 'tested_negative'\n",
            " 'tested_negative' 'tested_positive' 'tested_negative' 'tested_positive'\n",
            " 'tested_negative' 'tested_positive' 'tested_positive' 'tested_positive'\n",
            " 'tested_negative' 'tested_negative' 'tested_positive' 'tested_negative'\n",
            " 'tested_positive' 'tested_negative' 'tested_negative' 'tested_negative'\n",
            " 'tested_positive' 'tested_negative' 'tested_negative' 'tested_negative'\n",
            " 'tested_negative' 'tested_positive' 'tested_positive' 'tested_positive'\n",
            " 'tested_negative' 'tested_negative' 'tested_negative' 'tested_negative'\n",
            " 'tested_negative' 'tested_negative' 'tested_negative' 'tested_negative'\n",
            " 'tested_negative' 'tested_positive' 'tested_negative' 'tested_negative'\n",
            " 'tested_negative' 'tested_negative' 'tested_negative' 'tested_positive'\n",
            " 'tested_positive' 'tested_positive' 'tested_negative' 'tested_positive'\n",
            " 'tested_positive' 'tested_negative' 'tested_negative' 'tested_positive'\n",
            " 'tested_negative' 'tested_negative' 'tested_positive' 'tested_negative'\n",
            " 'tested_negative' 'tested_positive' 'tested_positive' 'tested_negative'\n",
            " 'tested_negative' 'tested_negative' 'tested_negative' 'tested_positive'\n",
            " 'tested_negative' 'tested_negative' 'tested_positive' 'tested_negative'\n",
            " 'tested_negative' 'tested_negative' 'tested_negative' 'tested_negative'\n",
            " 'tested_negative' 'tested_negative' 'tested_positive' 'tested_positive'\n",
            " 'tested_positive' 'tested_negative' 'tested_negative' 'tested_positive'\n",
            " 'tested_negative' 'tested_negative' 'tested_positive' 'tested_negative'\n",
            " 'tested_negative' 'tested_positive' 'tested_negative' 'tested_positive'\n",
            " 'tested_positive' 'tested_negative' 'tested_positive' 'tested_negative'\n",
            " 'tested_positive' 'tested_negative' 'tested_positive' 'tested_negative'\n",
            " 'tested_positive' 'tested_positive' 'tested_negative' 'tested_negative'\n",
            " 'tested_negative' 'tested_negative' 'tested_positive' 'tested_positive'\n",
            " 'tested_negative' 'tested_positive' 'tested_negative' 'tested_positive'\n",
            " 'tested_negative' 'tested_negative' 'tested_negative' 'tested_negative'\n",
            " 'tested_positive' 'tested_positive' 'tested_negative' 'tested_positive'\n",
            " 'tested_negative' 'tested_positive' 'tested_negative' 'tested_negative'\n",
            " 'tested_negative' 'tested_negative' 'tested_negative' 'tested_positive'\n",
            " 'tested_negative' 'tested_negative' 'tested_negative' 'tested_negative'\n",
            " 'tested_positive' 'tested_negative' 'tested_negative' 'tested_positive'\n",
            " 'tested_positive' 'tested_positive' 'tested_negative' 'tested_negative'\n",
            " 'tested_positive' 'tested_negative' 'tested_negative' 'tested_positive'\n",
            " 'tested_negative' 'tested_negative' 'tested_negative' 'tested_positive'\n",
            " 'tested_negative' 'tested_negative' 'tested_positive' 'tested_negative'\n",
            " 'tested_negative' 'tested_negative' 'tested_negative' 'tested_negative'\n",
            " 'tested_negative' 'tested_negative' 'tested_negative' 'tested_negative'\n",
            " 'tested_positive' 'tested_negative' 'tested_negative' 'tested_negative'\n",
            " 'tested_negative' 'tested_negative' 'tested_negative' 'tested_negative'\n",
            " 'tested_positive' 'tested_negative' 'tested_negative' 'tested_negative'\n",
            " 'tested_positive' 'tested_negative' 'tested_negative' 'tested_negative'\n",
            " 'tested_positive' 'tested_positive' 'tested_negative' 'tested_negative'\n",
            " 'tested_negative' 'tested_negative' 'tested_negative' 'tested_negative'\n",
            " 'tested_negative' 'tested_positive' 'tested_negative' 'tested_negative'\n",
            " 'tested_negative' 'tested_negative' 'tested_positive' 'tested_negative'\n",
            " 'tested_negative' 'tested_negative' 'tested_positive' 'tested_negative'\n",
            " 'tested_negative' 'tested_negative' 'tested_positive' 'tested_negative'\n",
            " 'tested_negative' 'tested_negative' 'tested_positive' 'tested_negative'\n",
            " 'tested_negative' 'tested_negative' 'tested_negative' 'tested_positive'\n",
            " 'tested_positive' 'tested_negative' 'tested_negative' 'tested_negative'\n",
            " 'tested_negative' 'tested_negative' 'tested_negative' 'tested_positive'\n",
            " 'tested_negative' 'tested_negative' 'tested_negative' 'tested_negative'\n",
            " 'tested_negative' 'tested_negative' 'tested_negative' 'tested_negative'\n",
            " 'tested_negative' 'tested_negative' 'tested_negative' 'tested_positive'\n",
            " 'tested_negative' 'tested_negative' 'tested_negative' 'tested_positive'\n",
            " 'tested_positive' 'tested_positive' 'tested_positive' 'tested_negative'\n",
            " 'tested_negative' 'tested_positive' 'tested_positive' 'tested_negative'\n",
            " 'tested_negative' 'tested_negative' 'tested_negative' 'tested_negative'\n",
            " 'tested_negative' 'tested_negative' 'tested_negative' 'tested_negative'\n",
            " 'tested_negative' 'tested_negative' 'tested_negative' 'tested_negative'\n",
            " 'tested_positive' 'tested_positive' 'tested_negative' 'tested_negative'\n",
            " 'tested_negative' 'tested_negative' 'tested_negative' 'tested_negative'\n",
            " 'tested_negative' 'tested_positive' 'tested_negative' 'tested_negative'\n",
            " 'tested_negative' 'tested_negative' 'tested_negative' 'tested_negative'\n",
            " 'tested_negative' 'tested_positive' 'tested_negative' 'tested_positive'\n",
            " 'tested_positive' 'tested_negative' 'tested_negative' 'tested_negative'\n",
            " 'tested_positive' 'tested_negative' 'tested_positive' 'tested_negative'\n",
            " 'tested_positive' 'tested_negative' 'tested_positive' 'tested_negative'\n",
            " 'tested_positive' 'tested_negative' 'tested_negative' 'tested_positive'\n",
            " 'tested_negative' 'tested_negative' 'tested_positive' 'tested_negative'\n",
            " 'tested_negative' 'tested_negative' 'tested_negative' 'tested_positive'\n",
            " 'tested_positive' 'tested_negative' 'tested_positive' 'tested_negative'\n",
            " 'tested_negative' 'tested_negative' 'tested_negative' 'tested_positive'\n",
            " 'tested_positive' 'tested_negative' 'tested_positive' 'tested_negative'\n",
            " 'tested_negative' 'tested_negative' 'tested_positive' 'tested_positive'\n",
            " 'tested_negative' 'tested_negative' 'tested_negative' 'tested_negative'\n",
            " 'tested_negative' 'tested_negative' 'tested_negative' 'tested_negative'\n",
            " 'tested_negative' 'tested_negative' 'tested_positive' 'tested_negative'\n",
            " 'tested_negative' 'tested_negative' 'tested_negative' 'tested_positive'\n",
            " 'tested_negative' 'tested_negative' 'tested_positive' 'tested_negative'\n",
            " 'tested_negative' 'tested_negative' 'tested_positive' 'tested_negative'\n",
            " 'tested_negative' 'tested_negative' 'tested_positive' 'tested_positive'\n",
            " 'tested_positive' 'tested_negative' 'tested_negative' 'tested_negative'\n",
            " 'tested_negative' 'tested_negative' 'tested_negative' 'tested_positive'\n",
            " 'tested_negative' 'tested_negative' 'tested_negative' 'tested_positive'\n",
            " 'tested_negative' 'tested_positive' 'tested_positive' 'tested_positive'\n",
            " 'tested_positive' 'tested_negative' 'tested_positive' 'tested_positive'\n",
            " 'tested_negative' 'tested_negative' 'tested_negative' 'tested_negative'\n",
            " 'tested_negative' 'tested_negative' 'tested_negative' 'tested_positive'\n",
            " 'tested_positive' 'tested_negative' 'tested_positive' 'tested_negative'\n",
            " 'tested_negative' 'tested_positive' 'tested_negative' 'tested_positive'\n",
            " 'tested_negative' 'tested_negative' 'tested_negative' 'tested_negative'\n",
            " 'tested_negative' 'tested_positive' 'tested_negative' 'tested_positive'\n",
            " 'tested_negative' 'tested_positive' 'tested_negative' 'tested_positive'\n",
            " 'tested_positive' 'tested_negative' 'tested_negative' 'tested_negative'\n",
            " 'tested_negative' 'tested_positive' 'tested_positive' 'tested_negative'\n",
            " 'tested_negative' 'tested_negative' 'tested_positive' 'tested_negative'\n",
            " 'tested_positive' 'tested_positive' 'tested_negative' 'tested_negative'\n",
            " 'tested_positive' 'tested_negative' 'tested_negative' 'tested_positive'\n",
            " 'tested_positive' 'tested_negative' 'tested_negative' 'tested_positive'\n",
            " 'tested_negative' 'tested_negative' 'tested_positive' 'tested_negative'\n",
            " 'tested_negative' 'tested_negative' 'tested_negative' 'tested_negative'\n",
            " 'tested_negative' 'tested_negative' 'tested_positive' 'tested_positive'\n",
            " 'tested_positive' 'tested_negative' 'tested_negative' 'tested_negative'\n",
            " 'tested_negative' 'tested_negative' 'tested_negative' 'tested_positive'\n",
            " 'tested_positive' 'tested_negative' 'tested_negative' 'tested_positive'\n",
            " 'tested_negative' 'tested_negative' 'tested_positive' 'tested_negative'\n",
            " 'tested_positive' 'tested_positive' 'tested_positive' 'tested_negative'\n",
            " 'tested_negative' 'tested_positive' 'tested_positive' 'tested_positive'\n",
            " 'tested_negative' 'tested_positive' 'tested_negative' 'tested_positive'\n",
            " 'tested_negative' 'tested_positive' 'tested_negative' 'tested_negative'\n",
            " 'tested_negative' 'tested_negative' 'tested_positive' 'tested_negative']\n"
          ]
        }
      ]
    }
  ]
}