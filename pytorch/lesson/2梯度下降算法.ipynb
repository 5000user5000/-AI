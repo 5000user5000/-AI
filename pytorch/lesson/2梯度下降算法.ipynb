{
  "nbformat": 4,
  "nbformat_minor": 0,
  "metadata": {
    "colab": {
      "name": "2梯度下降算法.ipynb",
      "provenance": []
    },
    "kernelspec": {
      "name": "python3",
      "display_name": "Python 3"
    },
    "language_info": {
      "name": "python"
    }
  },
  "cells": [
    {
      "cell_type": "code",
      "metadata": {
        "id": "Bag9-zM-sQ1u"
      },
      "source": [
        "x_data = [1.0,2.0,3.0]\n",
        "y_data = [2.0,4.0,6.0]\n",
        "w = 1.0 #先猜 w是1.0 as start point "
      ],
      "execution_count": null,
      "outputs": []
    },
    {
      "cell_type": "code",
      "metadata": {
        "id": "TFaSRzTfsfR8"
      },
      "source": [
        "def forward(x):\n",
        "  return w*x\n",
        "\n",
        "def cost(xs,ys): # xs 表示x 複數型態\n",
        "  cost = 0 \n",
        "  for x,y in zip(xs,ys):\n",
        "    y_pred = forward(x)\n",
        "    cost += (y_pred - y)**2  ## 平方差的sum , 平方似乎只能用 ** 不可^2\n",
        "  return cost/len(xs)        #均值\n",
        "\n",
        "def gradient(xs,ys):\n",
        "  grad = 0\n",
        "  for x,y in zip(xs,ys):\n",
        "    grad += 2*x*(x*w-y) #偏微分(平方差)算出來後,直接formula->2x(wx-y)\n",
        "  return grad/len(xs)    #均值"
      ],
      "execution_count": null,
      "outputs": []
    },
    {
      "cell_type": "code",
      "metadata": {
        "colab": {
          "base_uri": "https://localhost:8080/"
        },
        "id": "ScvRtm4XtS25",
        "outputId": "4301af63-2464-45d3-f634-2f8026a379c6"
      },
      "source": [
        "print('predict (before training)',4,forward(4))"
      ],
      "execution_count": null,
      "outputs": [
        {
          "output_type": "stream",
          "name": "stdout",
          "text": [
            "predict (before training) 4 4.0\n"
          ]
        }
      ]
    },
    {
      "cell_type": "code",
      "metadata": {
        "id": "rKaFuDbFteFH"
      },
      "source": [
        "epoch_record = []\n",
        "cost_record = []\n",
        "\n",
        "for epoch in range(100): #迭代次數\n",
        "  epoch_record.append(epoch)\n",
        "  cost_val = cost(x_data,y_data) #loss f~\n",
        "  cost_record.append(cost_val)\n",
        "  grad_val = gradient(x_data,y_data) # loss的梯度\n",
        "  w -=0.01*grad_val  #update\n",
        "  print('Epoch:',epoch,'w=',w,'loss=',cost_val)\n",
        "print('Predict(after training)',4,forward(4))"
      ],
      "execution_count": null,
      "outputs": []
    },
    {
      "cell_type": "code",
      "source": [
        "import matplotlib.pyplot as plt\n",
        "plt.plot(epoch_record,cost_record) # x,y\n",
        "plt.ylabel('Loss') #如果是c#就會是 plt.ylabel = loss\n",
        "plt.xlabel('epoch')\n",
        "plt.show() #別忘"
      ],
      "metadata": {
        "colab": {
          "base_uri": "https://localhost:8080/",
          "height": 279
        },
        "id": "OrVKv3HaJRPK",
        "outputId": "ab14cc61-2800-4012-f2f5-b1796bf63aa9"
      },
      "execution_count": null,
      "outputs": [
        {
          "output_type": "display_data",
          "data": {
            "image/png": "[encoded data removed]",
            "text/plain": [
              "<Figure size 432x288 with 1 Axes>"
            ]
          },
          "metadata": {
            "needs_background": "light"
          }
        }
      ]
    }
  ]
}
