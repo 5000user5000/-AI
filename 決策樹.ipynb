{
  "nbformat": 4,
  "nbformat_minor": 0,
  "metadata": {
    "colab": {
      "name": "決策樹.ipynb",
      "provenance": [],
      "authorship_tag": "ABX9TyMgod9jHR2cwdKX8XGq19ud",
      "include_colab_link": true
    },
    "kernelspec": {
      "name": "python3",
      "display_name": "Python 3"
    },
    "language_info": {
      "name": "python"
    }
  },
  "cells": [
    {
      "cell_type": "markdown",
      "metadata": {
        "id": "view-in-github",
        "colab_type": "text"
      },
      "source": [
        "<a href=\"https://colab.research.google.com/github/5000user5000/AI/blob/main/%E6%B1%BA%E7%AD%96%E6%A8%B9.ipynb\" target=\"_parent\"><img src=\"https://colab.research.google.com/assets/colab-badge.svg\" alt=\"Open In Colab\"/></a>"
      ]
    },
    {
      "cell_type": "code",
      "metadata": {
        "id": "Cy4xrBPUascu"
      },
      "source": [
        "from sklearn.datasets import load_breast_cancer\n",
        "from sklearn.linear_model import LogisticRegression\n",
        "from sklearn.tree import DecisionTreeClassifier"
      ],
      "execution_count": null,
      "outputs": []
    },
    {
      "cell_type": "code",
      "metadata": {
        "id": "jeaL8vYFbNqZ"
      },
      "source": [
        "breast_cancer = load_breast_cancer()\n",
        "X = breast_cancer.data\n",
        "Y = breast_cancer.target"
      ],
      "execution_count": null,
      "outputs": []
    },
    {
      "cell_type": "code",
      "metadata": {
        "colab": {
          "base_uri": "https://localhost:8080/"
        },
        "id": "S_ByOeVabr-7",
        "outputId": "a9787b7d-2ca4-4f6a-8602-5139c06a4a0c"
      },
      "source": [
        "clf1 = LogisticRegression()\n",
        "clf1.fit(X,Y)"
      ],
      "execution_count": null,
      "outputs": [
        {
          "output_type": "stream",
          "name": "stderr",
          "text": [
            "/usr/local/lib/python3.7/dist-packages/sklearn/linear_model/_logistic.py:940: ConvergenceWarning: lbfgs failed to converge (status=1):\n",
            "STOP: TOTAL NO. of ITERATIONS REACHED LIMIT.\n",
            "\n",
            "Increase the number of iterations (max_iter) or scale the data as shown in:\n",
            "    https://scikit-learn.org/stable/modules/preprocessing.html\n",
            "Please also refer to the documentation for alternative solver options:\n",
            "    https://scikit-learn.org/stable/modules/linear_model.html#logistic-regression\n",
            "  extra_warning_msg=_LOGISTIC_SOLVER_CONVERGENCE_MSG)\n"
          ]
        },
        {
          "output_type": "execute_result",
          "data": {
            "text/plain": [
              "LogisticRegression(C=1.0, class_weight=None, dual=False, fit_intercept=True,\n",
              "                   intercept_scaling=1, l1_ratio=None, max_iter=100,\n",
              "                   multi_class='auto', n_jobs=None, penalty='l2',\n",
              "                   random_state=None, solver='lbfgs', tol=0.0001, verbose=0,\n",
              "                   warm_start=False)"
            ]
          },
          "metadata": {},
          "execution_count": 5
        }
      ]
    },
    {
      "cell_type": "code",
      "metadata": {
        "colab": {
          "base_uri": "https://localhost:8080/"
        },
        "id": "wCqIzu4jbz-a",
        "outputId": "f2f84cda-5d05-4fe3-ee52-856ec1a7be6b"
      },
      "source": [
        "for f,w in zip(breast_cancer.feature_names,clf1.coef_[0]):\n",
        "  print(\"{0:<23}:{1:6.2f}\".format(f,w))"
      ],
      "execution_count": null,
      "outputs": [
        {
          "output_type": "stream",
          "name": "stdout",
          "text": [
            "mean radius            :  0.93\n",
            "mean texture           :  0.45\n",
            "mean perimeter         :  0.29\n",
            "mean area              : -0.02\n",
            "mean smoothness        : -0.03\n",
            "mean compactness       : -0.16\n",
            "mean concavity         : -0.23\n",
            "mean concave points    : -0.10\n",
            "mean symmetry          : -0.05\n",
            "mean fractal dimension : -0.01\n",
            "radius error           :  0.04\n",
            "texture error          :  0.37\n",
            "perimeter error        :  0.14\n",
            "area error             : -0.11\n",
            "smoothness error       : -0.00\n",
            "compactness error      : -0.04\n",
            "concavity error        : -0.05\n",
            "concave points error   : -0.01\n",
            "symmetry error         : -0.01\n",
            "fractal dimension error: -0.00\n",
            "worst radius           :  0.99\n",
            "worst texture          : -0.49\n",
            "worst perimeter        : -0.26\n",
            "worst area             : -0.01\n",
            "worst smoothness       : -0.06\n",
            "worst compactness      : -0.51\n",
            "worst concavity        : -0.63\n",
            "worst concave points   : -0.19\n",
            "worst symmetry         : -0.15\n",
            "worst fractal dimension: -0.05\n"
          ]
        }
      ]
    },
    {
      "cell_type": "code",
      "metadata": {
        "colab": {
          "base_uri": "https://localhost:8080/"
        },
        "id": "HcUn_wHdcL8B",
        "outputId": "9f0417bc-c9f4-4070-baf5-2863960d9257"
      },
      "source": [
        "clf2 = DecisionTreeClassifier(max_depth=2)\n",
        "clf2.fit(X,Y)"
      ],
      "execution_count": null,
      "outputs": [
        {
          "output_type": "execute_result",
          "data": {
            "text/plain": [
              "DecisionTreeClassifier(ccp_alpha=0.0, class_weight=None, criterion='gini',\n",
              "                       max_depth=2, max_features=None, max_leaf_nodes=None,\n",
              "                       min_impurity_decrease=0.0, min_impurity_split=None,\n",
              "                       min_samples_leaf=1, min_samples_split=2,\n",
              "                       min_weight_fraction_leaf=0.0, presort='deprecated',\n",
              "                       random_state=None, splitter='best')"
            ]
          },
          "metadata": {},
          "execution_count": 7
        }
      ]
    }
  ]
}