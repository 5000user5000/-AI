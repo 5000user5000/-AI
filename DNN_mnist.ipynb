{
  "nbformat": 4,
  "nbformat_minor": 0,
  "metadata": {
    "colab": {
      "name": "DNN-mnist.ipynb",
      "provenance": [],
      "authorship_tag": "ABX9TyPE5wYyiMhIeluUEfui5uJz",
      "include_colab_link": true
    },
    "kernelspec": {
      "name": "python3",
      "display_name": "Python 3"
    },
    "language_info": {
      "name": "python"
    }
  },
  "cells": [
    {
      "cell_type": "markdown",
      "metadata": {
        "id": "view-in-github",
        "colab_type": "text"
      },
      "source": [
        "<a href=\"https://colab.research.google.com/github/5000user5000/AI/blob/main/DNN_mnist.ipynb\" target=\"_parent\"><img src=\"https://colab.research.google.com/assets/colab-badge.svg\" alt=\"Open In Colab\"/></a>"
      ]
    },
    {
      "cell_type": "code",
      "metadata": {
        "id": "9WDHF-BYuXxZ"
      },
      "source": [
        "import keras"
      ],
      "execution_count": null,
      "outputs": []
    },
    {
      "cell_type": "code",
      "metadata": {
        "colab": {
          "base_uri": "https://localhost:8080/"
        },
        "id": "Z-5QS9oEufso",
        "outputId": "b9f9741f-4db6-407b-e190-ff18f054029f"
      },
      "source": [
        "from keras.datasets import mnist\n",
        "(X_train,y_train),(X_test,y_test) = mnist.load_data()"
      ],
      "execution_count": null,
      "outputs": [
        {
          "output_type": "stream",
          "name": "stdout",
          "text": [
            "Downloading data from https://storage.googleapis.com/tensorflow/tf-keras-datasets/mnist.npz\n",
            "11493376/11490434 [==============================] - 0s 0us/step\n",
            "11501568/11490434 [==============================] - 0s 0us/step\n"
          ]
        }
      ]
    },
    {
      "cell_type": "code",
      "metadata": {
        "id": "v2Zxp6wQu158"
      },
      "source": [
        "img_rows , img_cols =28,28\n",
        "\n",
        "X_train = X_train.reshape(X_train.shape[0],img_rows,img_cols,1) # 影像張數 * 縱畫素數 * 橫畫素數 * 色彩數(1, 彩色是3)\n",
        "X_test = X_test.reshape(X_test.shape[0],img_rows,img_cols,1)\n",
        "input_shape = (img_rows , img_cols , 1)\n",
        "\n",
        "X_train = X_train.astype('float32')/255  # 神經網路輸入限制為0 ~ 1 ,把畫素壓縮0到1之間\n",
        "X_test = X_test.astype('float32')/255\n",
        "\n"
      ],
      "execution_count": null,
      "outputs": []
    },
    {
      "cell_type": "code",
      "metadata": {
        "id": "TTvhbsZdwptW"
      },
      "source": [
        "from tensorflow.keras.utils import to_categorical\n",
        "y_train = to_categorical(y_train)\n",
        "y_test = to_categorical(y_test)"
      ],
      "execution_count": null,
      "outputs": []
    },
    {
      "cell_type": "code",
      "metadata": {
        "colab": {
          "base_uri": "https://localhost:8080/"
        },
        "id": "t7c_Ap0qxgKv",
        "outputId": "30bec010-e5b0-463e-fd6c-760e769aa167"
      },
      "source": [
        "from keras.models import Sequential\n",
        "from keras.layers import Conv2D , MaxPooling2D , Flatten ,Dense\n",
        "\n",
        "n_out = len(y_train[0]) # 10, 也就是10種輸出,因為圖有0~9\n",
        "\n",
        "model = Sequential()\n",
        "model.add(Conv2D(16,kernel_size= (3,3),\n",
        "                 activation = 'relu',\n",
        "                 input_shape = input_shape)) #kernel_size濾波器的大小,感受野,relu是防止overfitting的方法\n",
        "model.add(MaxPooling2D(pool_size=(2,2))) #去除部必要的細節and 減少運算量\n",
        "model.add(Conv2D(32,(3,3),activation = 'relu'))\n",
        "model.add(MaxPooling2D(pool_size=(2,2)))\n",
        "model.add(Flatten())\n",
        "model.add(Dense(128,activation = 'relu'))\n",
        "model.add(Dense(n_out,activation = 'softmax'))\n",
        "model.summary()"
      ],
      "execution_count": null,
      "outputs": [
        {
          "output_type": "stream",
          "name": "stdout",
          "text": [
            "Model: \"sequential\"\n",
            "_________________________________________________________________\n",
            "Layer (type)                 Output Shape              Param #   \n",
            "=================================================================\n",
            "conv2d (Conv2D)              (None, 26, 26, 16)        160       \n",
            "_________________________________________________________________\n",
            "max_pooling2d (MaxPooling2D) (None, 13, 13, 16)        0         \n",
            "_________________________________________________________________\n",
            "conv2d_1 (Conv2D)            (None, 11, 11, 32)        4640      \n",
            "_________________________________________________________________\n",
            "max_pooling2d_1 (MaxPooling2 (None, 5, 5, 32)          0         \n",
            "_________________________________________________________________\n",
            "flatten (Flatten)            (None, 800)               0         \n",
            "_________________________________________________________________\n",
            "dense (Dense)                (None, 128)               102528    \n",
            "_________________________________________________________________\n",
            "dense_1 (Dense)              (None, 10)                1290      \n",
            "=================================================================\n",
            "Total params: 108,618\n",
            "Trainable params: 108,618\n",
            "Non-trainable params: 0\n",
            "_________________________________________________________________\n"
          ]
        }
      ]
    },
    {
      "cell_type": "code",
      "metadata": {
        "colab": {
          "base_uri": "https://localhost:8080/"
        },
        "id": "v3q5Oy7gzDk7",
        "outputId": "409995e5-bd1a-493f-923c-adfa150f55b7"
      },
      "source": [
        "model.compile(loss='categorical_crossentropy',optimizer='rmsprop',metrics=['accuracy'])\n",
        "model.fit(X_train,y_train,epochs=5,batch_size=200)\n",
        "score = model.evaluate(X_test,y_test,verbose=0)\n",
        "print('Test loss:',score[0])\n",
        "print('Test accuracy:',score[1])"
      ],
      "execution_count": null,
      "outputs": [
        {
          "output_type": "stream",
          "name": "stdout",
          "text": [
            "Epoch 1/5\n",
            "300/300 [==============================] - 25s 80ms/step - loss: 0.3054 - accuracy: 0.9072\n",
            "Epoch 2/5\n",
            "300/300 [==============================] - 24s 79ms/step - loss: 0.0783 - accuracy: 0.9758\n",
            "Epoch 3/5\n",
            "300/300 [==============================] - 24s 79ms/step - loss: 0.0522 - accuracy: 0.9837\n",
            "Epoch 4/5\n",
            "300/300 [==============================] - 24s 78ms/step - loss: 0.0391 - accuracy: 0.9884\n",
            "Epoch 5/5\n",
            "300/300 [==============================] - 23s 78ms/step - loss: 0.0310 - accuracy: 0.9901\n",
            "Test loss: 0.03162490576505661\n",
            "Test accuracy: 0.9891999959945679\n"
          ]
        }
      ]
    }
  ]
}